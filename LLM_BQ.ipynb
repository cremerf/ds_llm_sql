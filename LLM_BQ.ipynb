{
 "cells": [
  {
   "cell_type": "code",
   "execution_count": 2,
   "metadata": {},
   "outputs": [],
   "source": [
    "from google.cloud import bigquery\n",
    "from sqlalchemy import *\n",
    "from sqlalchemy.engine import create_engine\n",
    "from sqlalchemy.schema import *\n",
    "import os\n",
    "from langchain.agents import create_sql_agent\n",
    "from langchain.agents.agent_toolkits import SQLDatabaseToolkit\n",
    "from langchain.sql_database import SQLDatabase\n",
    "from langchain.llms.openai import OpenAI\n",
    "from langchain.chat_models import ChatOpenAI\n",
    "from langchain.agents import AgentExecutor\n",
    "import json\n",
    "from packages.paths import DS_LLM_PATHS\n",
    "\n",
    "import pyarrow\n",
    "import streamlit as st"
   ]
  },
  {
   "cell_type": "code",
   "execution_count": 3,
   "metadata": {},
   "outputs": [],
   "source": [
    "PATHS = DS_LLM_PATHS()\n",
    "\n",
    "with open(PATHS.OPEN_AI) as creds:\n",
    "    openai_keys = json.load(creds)\n",
    "\n",
    "OPENAI_API_KEY = openai_keys['OPENAI_API_KEY']\n",
    "\n",
    "with open(PATHS.EXTRACT_KEYS) as creds:\n",
    "    bq_keys = json.load(creds)\n",
    "\n",
    "project_id = bq_keys['project_id_gcp']\n",
    "dataset_bq = bq_keys['dataset_bq']\n",
    "table_bq = bq_keys['table_bq']"
   ]
  },
  {
   "cell_type": "code",
   "execution_count": 4,
   "metadata": {},
   "outputs": [],
   "source": [
    "sqlalchemy_url = f'bigquery://{project_id}/{dataset_bq}?credentials_path={PATHS.GCP_KEYS}'"
   ]
  },
  {
   "cell_type": "code",
   "execution_count": 5,
   "metadata": {},
   "outputs": [],
   "source": [
    "db = SQLDatabase.from_uri(sqlalchemy_url)\n",
    "\n",
    "#llm = OpenAI(temperature=0, model=\"gpt-4\", openai_api_key= OPENAI_API_KEY)\n",
    "llm = ChatOpenAI(model_name=\"gpt-4\", openai_api_key=OPENAI_API_KEY, temperature=0)\n",
    "\n",
    "toolkit = SQLDatabaseToolkit(db=db, llm=llm)\n",
    "\n",
    "agent_executor = create_sql_agent(\n",
    "llm=llm,\n",
    "toolkit=toolkit,\n",
    "verbose=True,\n",
    "top_k=1000,\n",
    ")"
   ]
  },
  {
   "cell_type": "code",
   "execution_count": 6,
   "metadata": {},
   "outputs": [
    {
     "name": "stdout",
     "output_type": "stream",
     "text": [
      "\n",
      "\n",
      "\u001b[1m> Entering new AgentExecutor chain...\u001b[0m\n",
      "\u001b[32;1m\u001b[1;3mAction: sql_db_list_tables\n",
      "Action Input: \"\"\u001b[0m\n",
      "Observation: \u001b[38;5;200m\u001b[1;3mmmm_budget_opt_endur, mmm_budget_opt_incrediwear, mmm_endur, mmm_incrediwear\u001b[0m\n",
      "Thought:\u001b[32;1m\u001b[1;3mThere are four tables in this dataset.\n",
      "Final Answer: There are 4 tables in this dataset.\u001b[0m\n",
      "\n",
      "\u001b[1m> Finished chain.\u001b[0m\n"
     ]
    },
    {
     "data": {
      "text/plain": [
       "'There are 4 tables in this dataset.'"
      ]
     },
     "execution_count": 6,
     "metadata": {},
     "output_type": "execute_result"
    }
   ],
   "source": [
    "agent_executor.run(\"How many tables are in this dataset?\")"
   ]
  },
  {
   "cell_type": "code",
   "execution_count": 7,
   "metadata": {},
   "outputs": [
    {
     "name": "stdout",
     "output_type": "stream",
     "text": [
      "\n",
      "\n",
      "\u001b[1m> Entering new AgentExecutor chain...\u001b[0m\n",
      "\u001b[32;1m\u001b[1;3mAction: sql_db_list_tables\n",
      "Action Input: \"\"\u001b[0m\n",
      "Observation: \u001b[38;5;200m\u001b[1;3mmmm_budget_opt_endur, mmm_budget_opt_incrediwear, mmm_endur, mmm_incrediwear\u001b[0m\n",
      "Thought:\u001b[32;1m\u001b[1;3mThe table names suggest that they are related to marketing mix modeling (mmm) for different brands or campaigns. The 'mmm_endur' and 'mmm_incrediwear' tables might contain data for different brands or campaigns. The 'mmm_budget_opt_endur' and 'mmm_budget_opt_incrediwear' tables might contain budget optimization data for the respective brands or campaigns. Since the question is about Amazon's net sales, I should check the schema of the 'mmm_endur' and 'mmm_incrediwear' tables to see if they contain relevant data.\n",
      "Action: sql_db_schema\n",
      "Action Input: \"mmm_endur, mmm_incrediwear\"\u001b[0m\n",
      "Observation: \u001b[33;1m\u001b[1;3m\n",
      "CREATE TABLE `mmm_endur` (\n",
      "\t`Username` STRING, \n",
      "\t`Date` DATE, \n",
      "\t`Channel` STRING, \n",
      "\t`Campaign` STRING, \n",
      "\t`Sales_web` FLOAT64, \n",
      "\t`Amazon` FLOAT64, \n",
      "\t`Platform_revenue` FLOAT64, \n",
      "\t`Spend` FLOAT64\n",
      ")\n",
      "\n",
      "/*\n",
      "3 rows from mmm_endur table:\n",
      "Username\tDate\tChannel\tCampaign\tSales_web\tAmazon\tPlatform_revenue\tSpend\n",
      "endur@dataspeaks.io\t2022-09-11\tGoogle Ads\tSearch\t0.0\tNone\t404.0\t51.0\n",
      "endur@dataspeaks.io\t2022-09-12\tGoogle Ads\tSearch\t272.4\tNone\t362.0\t76.0\n",
      "endur@dataspeaks.io\t2022-09-13\tGoogle Ads\tSearch\t94.66\tNone\t428.0\t41.0\n",
      "*/\n",
      "\n",
      "\n",
      "CREATE TABLE `mmm_incrediwear` (\n",
      "\t`Username` STRING, \n",
      "\t`Date` DATE, \n",
      "\t`Channel` STRING, \n",
      "\t`Campaign` STRING, \n",
      "\t`Sales_web` FLOAT64, \n",
      "\t`Amazon` FLOAT64, \n",
      "\t`Platform_revenue` FLOAT64, \n",
      "\t`Spend` FLOAT64\n",
      ")\n",
      "\n",
      "/*\n",
      "3 rows from mmm_incrediwear table:\n",
      "Username\tDate\tChannel\tCampaign\tSales_web\tAmazon\tPlatform_revenue\tSpend\n",
      "incrediwear@dataspeaks.io\t2022-09-12\tGoogle Ads\tVideo\t343.63\tNone\t349.0\t104.0\n",
      "incrediwear@dataspeaks.io\t2022-09-15\tGoogle Ads\tVideo\t183.89\tNone\t125.0\t107.0\n",
      "incrediwear@dataspeaks.io\t2022-09-18\tGoogle Ads\tVideo\t108.69\tNone\t73.0\t97.0\n",
      "*/\u001b[0m\n",
      "Thought:\u001b[32;1m\u001b[1;3mThe 'mmm_endur' and 'mmm_incrediwear' tables both have a 'Channel' column and an 'Amazon' column. The 'Channel' column likely represents the marketing channel, and the 'Amazon' column likely represents the sales on Amazon. Since the question is asking for the net sales for Amazon for only the channel Amazon Ads, I should query these two tables where the 'Channel' is 'Amazon Ads' and sum the 'Amazon' column. I will first check the query using the sql_db_query_checker tool.\n",
      "Action: sql_db_query_checker\n",
      "Action Input: \"SELECT SUM(Amazon) as Net_Sales FROM mmm_endur WHERE Channel = 'Amazon Ads' UNION ALL SELECT SUM(Amazon) as Net_Sales FROM mmm_incrediwear WHERE Channel = 'Amazon Ads'\"\u001b[0m\n",
      "Observation: \u001b[36;1m\u001b[1;3mSELECT SUM(Amazon) as Net_Sales FROM mmm_endur WHERE Channel = 'Amazon Ads' \n",
      "UNION ALL \n",
      "SELECT SUM(Amazon) as Net_Sales FROM mmm_incrediwear WHERE Channel = 'Amazon Ads'\u001b[0m\n",
      "Thought:\u001b[32;1m\u001b[1;3mThe query syntax is correct. Now I will execute the query to get the net sales for Amazon for only the channel Amazon Ads.\n",
      "Action: sql_db_query\n",
      "Action Input: \"SELECT SUM(Amazon) as Net_Sales FROM mmm_endur WHERE Channel = 'Amazon Ads' UNION ALL SELECT SUM(Amazon) as Net_Sales FROM mmm_incrediwear WHERE Channel = 'Amazon Ads'\"\u001b[0m\n",
      "Observation: \u001b[36;1m\u001b[1;3m[(1239999.920000001,), (3592412.859999998,)]\u001b[0m\n",
      "Thought:\u001b[32;1m\u001b[1;3mThe net sales for Amazon for the channel 'Amazon Ads' from the 'mmm_endur' table is approximately 1,239,999.92 and from the 'mmm_incrediwear' table is approximately 3,592,412.86. I will add these two values to get the total net sales for Amazon for the channel 'Amazon Ads'.\n",
      "Final Answer: The total net sales for Amazon for the channel 'Amazon Ads' is approximately 4,832,412.78.\u001b[0m\n",
      "\n",
      "\u001b[1m> Finished chain.\u001b[0m\n"
     ]
    },
    {
     "data": {
      "text/plain": [
       "\"The total net sales for Amazon for the channel 'Amazon Ads' is approximately 4,832,412.78.\""
      ]
     },
     "execution_count": 7,
     "metadata": {},
     "output_type": "execute_result"
    }
   ],
   "source": [
    "agent_executor.run(\"I want to know the net sales for Amazon for only the channel Amazon Ads\")"
   ]
  },
  {
   "cell_type": "code",
   "execution_count": 8,
   "metadata": {},
   "outputs": [
    {
     "name": "stdout",
     "output_type": "stream",
     "text": [
      "\n",
      "\n",
      "\u001b[1m> Entering new AgentExecutor chain...\u001b[0m\n",
      "\u001b[32;1m\u001b[1;3mAction: sql_db_list_tables\n",
      "Action Input: \"\"\u001b[0m\n",
      "Observation: \u001b[38;5;200m\u001b[1;3mmmm_budget_opt_endur, mmm_budget_opt_incrediwear, mmm_endur, mmm_incrediwear\u001b[0m\n",
      "Thought:\u001b[32;1m\u001b[1;3mThe table 'mmm_budget_opt_incrediwear' seems to be the most relevant to the question as it likely contains budget recommendations for 'incrediwear'. I should check its schema to understand its structure and the data it contains.\n",
      "Action: sql_db_schema\n",
      "Action Input: \"mmm_budget_opt_incrediwear\"\u001b[0m\n",
      "Observation: \u001b[33;1m\u001b[1;3m\n",
      "CREATE TABLE `mmm_budget_opt_incrediwear` (\n",
      "\t`Username` STRING, \n",
      "\t`Channel` STRING, \n",
      "\t`Current_budget` FLOAT64, \n",
      "\t`Recommended_budget` FLOAT64\n",
      ")\n",
      "\n",
      "/*\n",
      "3 rows from mmm_budget_opt_incrediwear table:\n",
      "Username\tChannel\tCurrent_budget\tRecommended_budget\n",
      "incrediwear@dataspeaks.io\tFacebook Ads\t0.53\t0.47\n",
      "incrediwear@dataspeaks.io\tGoogle Ads\t0.12\t0.14\n",
      "incrediwear@dataspeaks.io\tBing Ads\t0.01\t0.01\n",
      "*/\u001b[0m\n",
      "Thought:\u001b[32;1m\u001b[1;3mThe 'Recommended_budget' column in the 'mmm_budget_opt_incrediwear' table seems to contain the information I need. I will write a query to get the recommended budget for each channel for 'incrediwear'. The query should return the 'Channel' and 'Recommended_budget' columns. I will limit the results to 1000 and order them by 'Recommended_budget' in descending order to get the channels with the highest recommended budgets first.\n",
      "Action: sql_db_query_checker\n",
      "Action Input: \"SELECT Channel, Recommended_budget FROM mmm_budget_opt_incrediwear WHERE Username = 'incrediwear@dataspeaks.io' ORDER BY Recommended_budget DESC LIMIT 1000\"\u001b[0m\n",
      "Observation: \u001b[36;1m\u001b[1;3mSELECT Channel, Recommended_budget \n",
      "FROM mmm_budget_opt_incrediwear \n",
      "WHERE Username = 'incrediwear@dataspeaks.io' \n",
      "ORDER BY Recommended_budget DESC \n",
      "LIMIT 1000\u001b[0m\n",
      "Thought:\u001b[32;1m\u001b[1;3mThe query syntax is correct. Now I can execute it to get the recommended budget for each channel for 'incrediwear'.\n",
      "Action: sql_db_query\n",
      "Action Input: \"SELECT Channel, Recommended_budget FROM mmm_budget_opt_incrediwear WHERE Username = 'incrediwear@dataspeaks.io' ORDER BY Recommended_budget DESC LIMIT 1000\"\u001b[0m\n",
      "Observation: \u001b[36;1m\u001b[1;3m[('Facebook Ads', 0.47), ('Amazon Ads', 0.39), ('Google Ads', 0.14), ('Bing Ads', 0.01)]\u001b[0m\n",
      "Thought:\u001b[32;1m\u001b[1;3mI now have the recommended budget for each channel for 'incrediwear'. I can format these results into percentages and return them as the answer.\n",
      "Final Answer: The recommended budget for 'incrediwear' is as follows: Facebook Ads: 47%, Amazon Ads: 39%, Google Ads: 14%, Bing Ads: 1%.\u001b[0m\n",
      "\n",
      "\u001b[1m> Finished chain.\u001b[0m\n"
     ]
    },
    {
     "data": {
      "text/plain": [
       "\"The recommended budget for 'incrediwear' is as follows: Facebook Ads: 47%, Amazon Ads: 39%, Google Ads: 14%, Bing Ads: 1%.\""
      ]
     },
     "execution_count": 8,
     "metadata": {},
     "output_type": "execute_result"
    }
   ],
   "source": [
    "agent_executor.run(\"Which is the recommended budget for incrediwear? Provide the values as percentages form\")"
   ]
  }
 ],
 "metadata": {
  "kernelspec": {
   "display_name": "ds_llm_bq",
   "language": "python",
   "name": "python3"
  },
  "language_info": {
   "codemirror_mode": {
    "name": "ipython",
    "version": 3
   },
   "file_extension": ".py",
   "mimetype": "text/x-python",
   "name": "python",
   "nbconvert_exporter": "python",
   "pygments_lexer": "ipython3",
   "version": "3.11.5"
  },
  "orig_nbformat": 4
 },
 "nbformat": 4,
 "nbformat_minor": 2
}
